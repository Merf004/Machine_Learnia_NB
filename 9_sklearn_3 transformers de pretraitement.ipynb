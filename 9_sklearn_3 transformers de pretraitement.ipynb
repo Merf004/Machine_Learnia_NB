{
 "cells": [
  {
   "cell_type": "code",
   "execution_count": 28,
   "id": "f3b74d70-91be-4e70-9d18-33992bcc8d5c",
   "metadata": {},
   "outputs": [],
   "source": [
    "import numpy as np\n",
    "import matplotlib.pyplot as plt\n",
    "import pandas as pd\n",
    "import seaborn as sns\n",
    "from sklearn.linear_model import SGDClassifier\n",
    "from sklearn.impute import SimpleImputer, KNNImputer, MissingIndicator"
   ]
  },
  {
   "cell_type": "markdown",
   "id": "c2750ac6-1745-45f5-a49d-9dbde1bd7b8d",
   "metadata": {},
   "source": [
    "# SimpleImputer\n",
    "Remplace toutes les valeurs manquantes par une valeur statistique"
   ]
  },
  {
   "cell_type": "code",
   "execution_count": 8,
   "id": "54f0c87e-a09b-4ab9-a523-1ac3166851c8",
   "metadata": {},
   "outputs": [],
   "source": [
    "X = np.array([\n",
    "    [12,5],\n",
    "    [np.nan, 8],\n",
    "    [14, 7],\n",
    "    [1, 4]\n",
    "])"
   ]
  },
  {
   "cell_type": "code",
   "execution_count": 18,
   "id": "21475d5c-47f3-430c-be05-c32ba6f5c287",
   "metadata": {},
   "outputs": [
    {
     "data": {
      "text/plain": [
       "array([[12.,  5.],\n",
       "       [ 9.,  8.],\n",
       "       [14.,  7.],\n",
       "       [ 1.,  4.]])"
      ]
     },
     "execution_count": 18,
     "metadata": {},
     "output_type": "execute_result"
    }
   ],
   "source": [
    "imputer = SimpleImputer(missing_values = np.nan, strategy = 'mean')\n",
    "imputer.fit_transform(X)"
   ]
  },
  {
   "cell_type": "markdown",
   "id": "daaf469c-4375-449d-a56e-fdbe3b043643",
   "metadata": {},
   "source": [
    "# KNNImputer\n",
    "Remplace les valeurs manquantes par la valeur des plus proche voisins"
   ]
  },
  {
   "cell_type": "code",
   "execution_count": 25,
   "id": "ebcb20d3-c039-4da4-96d9-261a092dcacd",
   "metadata": {},
   "outputs": [
    {
     "data": {
      "text/plain": [
       "array([[12.,  5.],\n",
       "       [14.,  8.],\n",
       "       [14.,  7.],\n",
       "       [ 1.,  4.]])"
      ]
     },
     "execution_count": 25,
     "metadata": {},
     "output_type": "execute_result"
    }
   ],
   "source": [
    "imputer = KNNImputer(missing_values = np.nan, n_neighbors = 1)\n",
    "imputer.fit_transform(X)"
   ]
  },
  {
   "cell_type": "markdown",
   "id": "ba98fd6c-ec83-4d66-a506-9c9dafa7f1d6",
   "metadata": {},
   "source": [
    "# MissngIndicator\n",
    "Variable booleene qui indique l'absence de valeur dans le dataset"
   ]
  },
  {
   "cell_type": "code",
   "execution_count": 30,
   "id": "36018854-978c-47ad-8baa-d2df585b6e6d",
   "metadata": {},
   "outputs": [
    {
     "data": {
      "text/plain": [
       "array([[False],\n",
       "       [ True],\n",
       "       [False],\n",
       "       [False]])"
      ]
     },
     "execution_count": 30,
     "metadata": {},
     "output_type": "execute_result"
    }
   ],
   "source": [
    "imputer = MissingIndicator(missing_values = np.nan)\n",
    "imputer.fit_transform(X)"
   ]
  },
  {
   "cell_type": "code",
   "execution_count": null,
   "id": "4c994934-9dad-4f8b-81bd-b4e1a3d12364",
   "metadata": {},
   "outputs": [],
   "source": []
  }
 ],
 "metadata": {
  "kernelspec": {
   "display_name": "Python 3 (ipykernel)",
   "language": "python",
   "name": "python3"
  },
  "language_info": {
   "codemirror_mode": {
    "name": "ipython",
    "version": 3
   },
   "file_extension": ".py",
   "mimetype": "text/x-python",
   "name": "python",
   "nbconvert_exporter": "python",
   "pygments_lexer": "ipython3",
   "version": "3.12.4"
  }
 },
 "nbformat": 4,
 "nbformat_minor": 5
}
