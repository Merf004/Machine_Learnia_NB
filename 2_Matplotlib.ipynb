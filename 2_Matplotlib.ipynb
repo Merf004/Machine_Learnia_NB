{
 "cells": [
  {
   "cell_type": "code",
   "execution_count": 72,
   "id": "d83bfe0d-af08-473c-af38-8dd4dfab2357",
   "metadata": {},
   "outputs": [],
   "source": [
    "import numpy as np\n",
    "import matplotlib.pyplot as plt\n",
    "from sklearn.datasets import load_iris\n",
    "from mpl_toolkits.mplot3d import Axes3D"
   ]
  },
  {
   "cell_type": "code",
   "execution_count": 74,
   "id": "9be04111-0d9f-4592-8c40-088802d1337b",
   "metadata": {},
   "outputs": [],
   "source": [
    "x = np.linspace(0, 2, 10)\n",
    "y = x**2"
   ]
  },
  {
   "cell_type": "code",
   "execution_count": 76,
   "id": "6bdf5fa8-6cde-43b2-838b-2fea88928715",
   "metadata": {},
   "outputs": [
    {
     "data": {
      "text/plain": [
       "array([0.        , 0.04938272, 0.19753086, 0.44444444, 0.79012346,\n",
       "       1.2345679 , 1.77777778, 2.41975309, 3.16049383, 4.        ])"
      ]
     },
     "execution_count": 76,
     "metadata": {},
     "output_type": "execute_result"
    }
   ],
   "source": [
    "y"
   ]
  },
  {
   "cell_type": "code",
   "execution_count": 78,
   "id": "837f2971-975e-4988-a171-fa74cf128170",
   "metadata": {},
   "outputs": [
    {
     "data": {
      "text/plain": [
       "array([0.        , 0.22222222, 0.44444444, 0.66666667, 0.88888889,\n",
       "       1.11111111, 1.33333333, 1.55555556, 1.77777778, 2.        ])"
      ]
     },
     "execution_count": 78,
     "metadata": {},
     "output_type": "execute_result"
    }
   ],
   "source": [
    "x"
   ]
  },
  {
   "cell_type": "code",
   "execution_count": 80,
   "id": "f11982a4-5f3b-4f5a-8677-e8955845c8a6",
   "metadata": {},
   "outputs": [],
   "source": [
    "# Tracer un simple graphique\n",
    "\n",
    "plt.plot(x, y)\n",
    "plt.show()"
   ]
  },
  {
   "cell_type": "code",
   "execution_count": 82,
   "id": "e3f88dda-f684-4f67-92fd-487e497d0e19",
   "metadata": {},
   "outputs": [],
   "source": [
    "# Tracer un nuage de points\n",
    "\n",
    "plt.scatter(x, y)\n",
    "plt.show()"
   ]
  },
  {
   "cell_type": "code",
   "execution_count": 84,
   "id": "709d3376-b8a4-44bc-8316-3ff9ddad66aa",
   "metadata": {},
   "outputs": [],
   "source": [
    "# Les parametres\n",
    "# c = 'couleur de la courbes'\n",
    "# lw = 'Epaisseur de la courbes'\n",
    "# ls = 'style de la courbes'\n",
    "\n",
    "plt.plot(x, y, c = 'red', lw = 5, ls = '--')\n",
    "plt.show()"
   ]
  },
  {
   "cell_type": "code",
   "execution_count": 86,
   "id": "6e9438bf-4577-4611-9bd4-e7d9c7fea19a",
   "metadata": {},
   "outputs": [],
   "source": [
    "# Cycle de vie d'une figure\n",
    "\n",
    "plt.figure(figsize = (12, 8))\n",
    "plt.plot(x, y, c = 'red', lw = 5, ls = '--', label = 'AAaH')\n",
    "plt.plot(x, x*3-y, c = 'black', lw = 2, ls = '-', label = 'oKAI')\n",
    "plt.title('Figure one')\n",
    "plt.xlabel('x')\n",
    "plt.ylabel('y')\n",
    "plt.legend()\n",
    "plt.show()\n",
    "plt.savefig('fig.png')"
   ]
  },
  {
   "cell_type": "code",
   "execution_count": 88,
   "id": "0821cdf0-8c38-405e-a1ad-9b7e6f3eb23f",
   "metadata": {},
   "outputs": [
    {
     "name": "stderr",
     "output_type": "stream",
     "text": [
      "/tmp/ipykernel_50999/3885204452.py:19: RuntimeWarning: divide by zero encountered in divide\n",
      "  plt.plot(x, (x//2)*x-21/x, c = 'gray')\n"
     ]
    },
    {
     "data": {
      "text/plain": [
       "[<matplotlib.lines.Line2D at 0x7fc030d92fc0>]"
      ]
     },
     "execution_count": 88,
     "metadata": {},
     "output_type": "execute_result"
    }
   ],
   "source": [
    "# Plusieurs graphiques sur une meme figure\n",
    "\n",
    "plt.subplot(2, 3, 1) # 2 ligne et 3 colonnes, on est sur le graphe 1\n",
    "plt.plot(x, x**2, c = 'red')\n",
    "\n",
    "plt.subplot(2, 3, 2) # 2 ligne et 3 colonnes, on est sur le graphe 2\n",
    "plt.plot(x, x**3, c = 'yellow')\n",
    "\n",
    "plt.subplot(2, 3, 3) # 2 ligne et 3 colonnes, on est sur le graphe 3\n",
    "plt.plot(x, (x//2)*x, c = 'black')\n",
    "\n",
    "plt.subplot(2, 3, 4) # 2 ligne et 3 colonnes, on est sur le graphe 4\n",
    "plt.plot(x, 3*x - 2, c = 'blue')\n",
    "\n",
    "plt.subplot(2, 3, 5) # 2 ligne et 3 colonnes, on est sur le graphe 5\n",
    "plt.plot(x, x*3+144, c = 'green')\n",
    "\n",
    "plt.subplot(2, 3, 6) # 2 ligne et 3 colonnes, on est sur le graphe 6\n",
    "plt.plot(x, (x//2)*x-21/x, c = 'gray')"
   ]
  },
  {
   "cell_type": "markdown",
   "id": "36a2b0bc-2b93-42b7-b51e-37180c9f709a",
   "metadata": {},
   "source": [
    "## Graphiques les plus utiles de matplotlib"
   ]
  },
  {
   "cell_type": "markdown",
   "id": "d67cc0a5-fc07-48ed-978a-ba2a47d5aa54",
   "metadata": {},
   "source": [
    "### 5 - scatter (Classification)"
   ]
  },
  {
   "cell_type": "code",
   "execution_count": 92,
   "id": "c76949c4-9f04-46d9-b0cf-d9fa56cd587d",
   "metadata": {},
   "outputs": [],
   "source": [
    "iris = load_iris()\n",
    "x = iris.data\n",
    "y = iris.target\n",
    "names = list(iris.target_names)"
   ]
  },
  {
   "cell_type": "code",
   "execution_count": 94,
   "id": "7191e8d1-b6f2-4158-bf9c-c714abf7f36e",
   "metadata": {},
   "outputs": [
    {
     "data": {
      "text/plain": [
       "(150, 4)"
      ]
     },
     "execution_count": 94,
     "metadata": {},
     "output_type": "execute_result"
    }
   ],
   "source": [
    "x.shape"
   ]
  },
  {
   "cell_type": "code",
   "execution_count": 96,
   "id": "532469b7-0b99-40d6-b818-2b34ab975502",
   "metadata": {},
   "outputs": [
    {
     "data": {
      "text/plain": [
       "(150,)"
      ]
     },
     "execution_count": 96,
     "metadata": {},
     "output_type": "execute_result"
    }
   ],
   "source": [
    "y.shape"
   ]
  },
  {
   "cell_type": "code",
   "execution_count": 98,
   "id": "c54804d6-32ae-4cfe-813e-3fb6ebabf48d",
   "metadata": {},
   "outputs": [
    {
     "data": {
      "text/plain": [
       "Text(0, 0.5, 'largeur sepal')"
      ]
     },
     "execution_count": 98,
     "metadata": {},
     "output_type": "execute_result"
    }
   ],
   "source": [
    "plt.scatter(x[:,0], x[:, 1], c = y, alpha = 0.5, s = 25) # alpha pour la transparence des points et s pour la taille\n",
    "plt.xlabel('Longeur sepal')\n",
    "plt.ylabel('largeur sepal')"
   ]
  },
  {
   "cell_type": "markdown",
   "id": "3d6806f3-cda5-43d4-9007-8c18bf52a557",
   "metadata": {},
   "source": [
    "### 4 - Graphique 3D"
   ]
  },
  {
   "cell_type": "code",
   "execution_count": 101,
   "id": "f6ed4f0c-dfdf-4390-958b-20c749f897eb",
   "metadata": {},
   "outputs": [
    {
     "data": {
      "text/plain": [
       "<mpl_toolkits.mplot3d.art3d.Path3DCollection at 0x7fc02b5e36e0>"
      ]
     },
     "execution_count": 101,
     "metadata": {},
     "output_type": "execute_result"
    }
   ],
   "source": [
    "# Creer un objet axes \n",
    "ax = plt.axes(projection = '3d')\n",
    "ax.scatter(x[:,0], x[:, 1], x[:, 2], c = y)"
   ]
  },
  {
   "cell_type": "markdown",
   "id": "4708eef5-eca8-4335-acba-28f943e3f670",
   "metadata": {},
   "source": [
    "## 3 - Histogramme"
   ]
  },
  {
   "cell_type": "code",
   "execution_count": 114,
   "id": "fffe646a-753a-45fd-8245-d0661ee23b41",
   "metadata": {},
   "outputs": [
    {
     "data": {
      "text/plain": [
       "(array([ 4.,  1.,  4.,  2.,  5., 16.,  9.,  4.,  1.,  6., 13.,  8.,  7.,\n",
       "         3.,  6., 10.,  9.,  7.,  5.,  2., 11.,  4.,  1.,  1.,  4.,  1.,\n",
       "         0.,  1.,  4.,  1.]),\n",
       " array([4.3 , 4.42, 4.54, 4.66, 4.78, 4.9 , 5.02, 5.14, 5.26, 5.38, 5.5 ,\n",
       "        5.62, 5.74, 5.86, 5.98, 6.1 , 6.22, 6.34, 6.46, 6.58, 6.7 , 6.82,\n",
       "        6.94, 7.06, 7.18, 7.3 , 7.42, 7.54, 7.66, 7.78, 7.9 ]),\n",
       " <BarContainer object of 30 artists>)"
      ]
     },
     "execution_count": 114,
     "metadata": {},
     "output_type": "execute_result"
    }
   ],
   "source": [
    "plt.hist(x[:, 0], bins = 30) # bins nombre de sections dans l'histogramme"
   ]
  },
  {
   "cell_type": "code",
   "execution_count": 125,
   "id": "29770142-fda9-460d-ba7d-e93afaf9cae1",
   "metadata": {},
   "outputs": [
    {
     "data": {
      "text/plain": [
       "<matplotlib.colorbar.Colorbar at 0x7fc026ffd970>"
      ]
     },
     "execution_count": 125,
     "metadata": {},
     "output_type": "execute_result"
    }
   ],
   "source": [
    "# Histogramme 2D\n",
    "plt.hist2d(x[:,0], x[:, 1], cmap = 'Blues') # cmap pour la couleur\n",
    "plt.xlabel('Longueur sepal')\n",
    "plt.ylabel('Largeur de sepal')\n",
    "plt.colorbar()"
   ]
  },
  {
   "cell_type": "code",
   "execution_count": 127,
   "id": "88c43ccf-aa2d-47bd-8063-28429e79749d",
   "metadata": {},
   "outputs": [
    {
     "name": "stderr",
     "output_type": "stream",
     "text": [
      "/tmp/ipykernel_50999/3735978437.py:4: DeprecationWarning: scipy.misc.face has been deprecated in SciPy v1.10.0; and will be completely removed in SciPy v1.12.0. Dataset methods have moved into the scipy.datasets module. Use scipy.datasets.face instead.\n",
      "  face = misc.face(gray = True)\n"
     ]
    },
    {
     "data": {
      "text/plain": [
       "<matplotlib.image.AxesImage at 0x7fc026abdd60>"
      ]
     },
     "execution_count": 127,
     "metadata": {},
     "output_type": "execute_result"
    }
   ],
   "source": [
    "# Histogramme d'une image\n",
    "\n",
    "from scipy import misc\n",
    "face = misc.face(gray = True)\n",
    "plt.imshow(face, cmap = 'gray')"
   ]
  },
  {
   "cell_type": "code",
   "execution_count": 129,
   "id": "34311d36-ef07-43b6-ab6a-4cf78154fdff",
   "metadata": {},
   "outputs": [
    {
     "data": {
      "text/plain": [
       "(array([2.900e+01, 6.600e+01, 5.700e+01, 1.300e+02, 3.920e+02, 8.390e+02,\n",
       "        1.841e+03, 2.727e+03, 2.963e+03, 2.453e+03, 1.944e+03, 1.955e+03,\n",
       "        2.176e+03, 2.567e+03, 2.775e+03, 3.073e+03, 2.973e+03, 3.565e+03,\n",
       "        3.408e+03, 3.663e+03, 3.491e+03, 3.339e+03, 3.201e+03, 3.188e+03,\n",
       "        3.071e+03, 3.127e+03, 2.945e+03, 2.709e+03, 2.690e+03, 2.509e+03,\n",
       "        2.444e+03, 2.388e+03, 2.420e+03, 2.356e+03, 2.405e+03, 2.325e+03,\n",
       "        2.458e+03, 2.330e+03, 2.348e+03, 2.314e+03, 2.341e+03, 2.455e+03,\n",
       "        2.257e+03, 2.310e+03, 2.335e+03, 2.397e+03, 2.486e+03, 2.445e+03,\n",
       "        2.497e+03, 2.459e+03, 0.000e+00, 2.653e+03, 2.617e+03, 2.731e+03,\n",
       "        2.767e+03, 2.904e+03, 2.854e+03, 3.099e+03, 3.209e+03, 3.189e+03,\n",
       "        3.358e+03, 3.396e+03, 3.458e+03, 3.460e+03, 3.589e+03, 3.768e+03,\n",
       "        3.742e+03, 3.637e+03, 3.585e+03, 3.639e+03, 3.782e+03, 3.656e+03,\n",
       "        3.717e+03, 3.783e+03, 3.773e+03, 3.801e+03, 3.880e+03, 3.790e+03,\n",
       "        3.859e+03, 3.947e+03, 3.889e+03, 4.133e+03, 4.210e+03, 4.357e+03,\n",
       "        4.442e+03, 4.419e+03, 4.610e+03, 4.637e+03, 4.782e+03, 4.720e+03,\n",
       "        4.794e+03, 4.773e+03, 4.630e+03, 4.600e+03, 4.708e+03, 4.862e+03,\n",
       "        4.698e+03, 4.947e+03, 5.047e+03, 4.880e+03, 5.140e+03, 0.000e+00,\n",
       "        5.169e+03, 5.161e+03, 5.092e+03, 5.168e+03, 5.184e+03, 5.014e+03,\n",
       "        4.961e+03, 5.129e+03, 4.964e+03, 4.962e+03, 4.927e+03, 5.240e+03,\n",
       "        4.973e+03, 4.959e+03, 5.075e+03, 5.005e+03, 5.183e+03, 5.037e+03,\n",
       "        5.098e+03, 5.264e+03, 5.119e+03, 5.166e+03, 5.241e+03, 5.246e+03,\n",
       "        5.308e+03, 5.078e+03, 5.088e+03, 5.123e+03, 4.931e+03, 4.917e+03,\n",
       "        5.116e+03, 4.962e+03, 4.998e+03, 5.032e+03, 4.852e+03, 4.917e+03,\n",
       "        4.793e+03, 4.801e+03, 4.748e+03, 4.703e+03, 4.688e+03, 4.784e+03,\n",
       "        4.633e+03, 4.655e+03, 4.672e+03, 4.739e+03, 4.498e+03, 4.464e+03,\n",
       "        4.359e+03, 4.239e+03, 0.000e+00, 4.258e+03, 4.285e+03, 4.264e+03,\n",
       "        4.222e+03, 4.232e+03, 4.338e+03, 4.221e+03, 4.305e+03, 4.329e+03,\n",
       "        4.216e+03, 4.572e+03, 4.264e+03, 4.266e+03, 4.266e+03, 4.102e+03,\n",
       "        4.229e+03, 4.194e+03, 4.141e+03, 4.138e+03, 3.949e+03, 4.025e+03,\n",
       "        3.788e+03, 3.830e+03, 3.788e+03, 3.902e+03, 3.685e+03, 3.581e+03,\n",
       "        3.572e+03, 3.550e+03, 3.598e+03, 3.450e+03, 3.436e+03, 3.388e+03,\n",
       "        3.404e+03, 3.339e+03, 3.232e+03, 3.258e+03, 3.262e+03, 3.279e+03,\n",
       "        3.325e+03, 3.161e+03, 3.254e+03, 3.108e+03, 3.077e+03, 3.094e+03,\n",
       "        2.969e+03, 2.890e+03, 2.690e+03, 2.678e+03, 2.513e+03, 0.000e+00,\n",
       "        2.445e+03, 2.357e+03, 2.201e+03, 2.160e+03, 2.057e+03, 1.884e+03,\n",
       "        1.796e+03, 1.744e+03, 1.654e+03, 1.621e+03, 1.519e+03, 1.412e+03,\n",
       "        1.398e+03, 1.241e+03, 1.187e+03, 1.085e+03, 9.940e+02, 9.380e+02,\n",
       "        8.810e+02, 8.620e+02, 7.310e+02, 6.970e+02, 6.270e+02, 5.380e+02,\n",
       "        5.100e+02, 4.330e+02, 3.740e+02, 3.720e+02, 3.590e+02, 3.060e+02,\n",
       "        2.950e+02, 2.830e+02, 2.650e+02, 2.260e+02, 2.080e+02, 1.840e+02,\n",
       "        1.630e+02, 1.790e+02, 1.880e+02, 1.900e+02, 1.900e+02, 1.700e+02,\n",
       "        1.660e+02, 1.300e+02, 1.130e+02, 9.700e+01, 5.000e+01, 3.300e+01,\n",
       "        7.000e+00, 2.000e+00, 1.000e+00]),\n",
       " array([  0.        ,   0.98039216,   1.96078431,   2.94117647,\n",
       "          3.92156863,   4.90196078,   5.88235294,   6.8627451 ,\n",
       "          7.84313725,   8.82352941,   9.80392157,  10.78431373,\n",
       "         11.76470588,  12.74509804,  13.7254902 ,  14.70588235,\n",
       "         15.68627451,  16.66666667,  17.64705882,  18.62745098,\n",
       "         19.60784314,  20.58823529,  21.56862745,  22.54901961,\n",
       "         23.52941176,  24.50980392,  25.49019608,  26.47058824,\n",
       "         27.45098039,  28.43137255,  29.41176471,  30.39215686,\n",
       "         31.37254902,  32.35294118,  33.33333333,  34.31372549,\n",
       "         35.29411765,  36.2745098 ,  37.25490196,  38.23529412,\n",
       "         39.21568627,  40.19607843,  41.17647059,  42.15686275,\n",
       "         43.1372549 ,  44.11764706,  45.09803922,  46.07843137,\n",
       "         47.05882353,  48.03921569,  49.01960784,  50.        ,\n",
       "         50.98039216,  51.96078431,  52.94117647,  53.92156863,\n",
       "         54.90196078,  55.88235294,  56.8627451 ,  57.84313725,\n",
       "         58.82352941,  59.80392157,  60.78431373,  61.76470588,\n",
       "         62.74509804,  63.7254902 ,  64.70588235,  65.68627451,\n",
       "         66.66666667,  67.64705882,  68.62745098,  69.60784314,\n",
       "         70.58823529,  71.56862745,  72.54901961,  73.52941176,\n",
       "         74.50980392,  75.49019608,  76.47058824,  77.45098039,\n",
       "         78.43137255,  79.41176471,  80.39215686,  81.37254902,\n",
       "         82.35294118,  83.33333333,  84.31372549,  85.29411765,\n",
       "         86.2745098 ,  87.25490196,  88.23529412,  89.21568627,\n",
       "         90.19607843,  91.17647059,  92.15686275,  93.1372549 ,\n",
       "         94.11764706,  95.09803922,  96.07843137,  97.05882353,\n",
       "         98.03921569,  99.01960784, 100.        , 100.98039216,\n",
       "        101.96078431, 102.94117647, 103.92156863, 104.90196078,\n",
       "        105.88235294, 106.8627451 , 107.84313725, 108.82352941,\n",
       "        109.80392157, 110.78431373, 111.76470588, 112.74509804,\n",
       "        113.7254902 , 114.70588235, 115.68627451, 116.66666667,\n",
       "        117.64705882, 118.62745098, 119.60784314, 120.58823529,\n",
       "        121.56862745, 122.54901961, 123.52941176, 124.50980392,\n",
       "        125.49019608, 126.47058824, 127.45098039, 128.43137255,\n",
       "        129.41176471, 130.39215686, 131.37254902, 132.35294118,\n",
       "        133.33333333, 134.31372549, 135.29411765, 136.2745098 ,\n",
       "        137.25490196, 138.23529412, 139.21568627, 140.19607843,\n",
       "        141.17647059, 142.15686275, 143.1372549 , 144.11764706,\n",
       "        145.09803922, 146.07843137, 147.05882353, 148.03921569,\n",
       "        149.01960784, 150.        , 150.98039216, 151.96078431,\n",
       "        152.94117647, 153.92156863, 154.90196078, 155.88235294,\n",
       "        156.8627451 , 157.84313725, 158.82352941, 159.80392157,\n",
       "        160.78431373, 161.76470588, 162.74509804, 163.7254902 ,\n",
       "        164.70588235, 165.68627451, 166.66666667, 167.64705882,\n",
       "        168.62745098, 169.60784314, 170.58823529, 171.56862745,\n",
       "        172.54901961, 173.52941176, 174.50980392, 175.49019608,\n",
       "        176.47058824, 177.45098039, 178.43137255, 179.41176471,\n",
       "        180.39215686, 181.37254902, 182.35294118, 183.33333333,\n",
       "        184.31372549, 185.29411765, 186.2745098 , 187.25490196,\n",
       "        188.23529412, 189.21568627, 190.19607843, 191.17647059,\n",
       "        192.15686275, 193.1372549 , 194.11764706, 195.09803922,\n",
       "        196.07843137, 197.05882353, 198.03921569, 199.01960784,\n",
       "        200.        , 200.98039216, 201.96078431, 202.94117647,\n",
       "        203.92156863, 204.90196078, 205.88235294, 206.8627451 ,\n",
       "        207.84313725, 208.82352941, 209.80392157, 210.78431373,\n",
       "        211.76470588, 212.74509804, 213.7254902 , 214.70588235,\n",
       "        215.68627451, 216.66666667, 217.64705882, 218.62745098,\n",
       "        219.60784314, 220.58823529, 221.56862745, 222.54901961,\n",
       "        223.52941176, 224.50980392, 225.49019608, 226.47058824,\n",
       "        227.45098039, 228.43137255, 229.41176471, 230.39215686,\n",
       "        231.37254902, 232.35294118, 233.33333333, 234.31372549,\n",
       "        235.29411765, 236.2745098 , 237.25490196, 238.23529412,\n",
       "        239.21568627, 240.19607843, 241.17647059, 242.15686275,\n",
       "        243.1372549 , 244.11764706, 245.09803922, 246.07843137,\n",
       "        247.05882353, 248.03921569, 249.01960784, 250.        ]),\n",
       " <BarContainer object of 255 artists>)"
      ]
     },
     "execution_count": 129,
     "metadata": {},
     "output_type": "execute_result"
    }
   ],
   "source": [
    "plt.hist(face.ravel(), bins = 255)"
   ]
  },
  {
   "cell_type": "markdown",
   "id": "784eed3e-a503-4e03-a1c8-d0d8731f40f7",
   "metadata": {},
   "source": [
    "## 2 - Contour plot"
   ]
  },
  {
   "cell_type": "code",
   "execution_count": 133,
   "id": "950c0ec1-34cb-49b3-a2e3-625c1649ee81",
   "metadata": {},
   "outputs": [],
   "source": [
    "# Utilisé pour les problemes d'optimisation"
   ]
  },
  {
   "cell_type": "markdown",
   "id": "ac537585-f5eb-4269-b604-4d3fae899db8",
   "metadata": {},
   "source": [
    "## 1 - imshow"
   ]
  },
  {
   "cell_type": "code",
   "execution_count": 138,
   "id": "c78952c5-99ca-4732-8d3c-c020c4caba80",
   "metadata": {},
   "outputs": [],
   "source": [
    "# Utilisé pour reprensenter un tablea"
   ]
  },
  {
   "cell_type": "code",
   "execution_count": 146,
   "id": "ce912ce3-2cbd-40a5-965e-a014d3532677",
   "metadata": {},
   "outputs": [
    {
     "data": {
      "text/plain": [
       "<matplotlib.colorbar.Colorbar at 0x7fc02599a480>"
      ]
     },
     "execution_count": 146,
     "metadata": {},
     "output_type": "execute_result"
    }
   ],
   "source": [
    "# Matrice de correlation d'iris\n",
    "plt.imshow(np.corrcoef(x.T), cmap = 'Blues') # La transposée parceque on veut les correlations entre les colonnes et non lignes\n",
    "plt.colorbar()"
   ]
  },
  {
   "cell_type": "code",
   "execution_count": null,
   "id": "618aa4e1-0750-4b46-a006-916f910879ff",
   "metadata": {},
   "outputs": [],
   "source": []
  }
 ],
 "metadata": {
  "kernelspec": {
   "display_name": "Python 3 (ipykernel)",
   "language": "python",
   "name": "python3"
  },
  "language_info": {
   "codemirror_mode": {
    "name": "ipython",
    "version": 3
   },
   "file_extension": ".py",
   "mimetype": "text/x-python",
   "name": "python",
   "nbconvert_exporter": "python",
   "pygments_lexer": "ipython3",
   "version": "3.12.4"
  }
 },
 "nbformat": 4,
 "nbformat_minor": 5
}
